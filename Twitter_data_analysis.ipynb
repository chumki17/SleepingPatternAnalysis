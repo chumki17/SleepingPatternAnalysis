{
  "nbformat": 4,
  "nbformat_minor": 0,
  "metadata": {
    "colab": {
      "name": "twitter_1.ipynb",
      "provenance": [],
      "collapsed_sections": [],
      "machine_shape": "hm"
    },
    "kernelspec": {
      "name": "python3",
      "display_name": "Python 3"
    },
    "accelerator": "GPU"
  },
  "cells": [
    {
      "cell_type": "code",
      "metadata": {
        "id": "ZPk0yyIpapqL",
        "colab": {
          "base_uri": "https://localhost:8080/",
          "height": 189
        },
        "outputId": "152d1511-7028-4ffd-9cdf-4e004cbffcd9"
      },
      "source": [
        "from google.colab import drive\n",
        "drive.mount('/content/drive')"
      ],
      "execution_count": null,
      "outputs": [
        {
          "output_type": "stream",
          "text": [
            "Go to this URL in a browser: https://accounts.google.com/o/oauth2/auth?client_id=947318989803-6bn6qk8qdgf4n4g3pfee6491hc0brc4i.apps.googleusercontent.com&redirect_uri=urn%3aietf%3awg%3aoauth%3a2.0%3aoob&response_type=code&scope=email%20https%3a%2f%2fwww.googleapis.com%2fauth%2fdocs.test%20https%3a%2f%2fwww.googleapis.com%2fauth%2fdrive%20https%3a%2f%2fwww.googleapis.com%2fauth%2fdrive.photos.readonly%20https%3a%2f%2fwww.googleapis.com%2fauth%2fpeopleapi.readonly\n",
            "\n",
            "Enter your authorization code:\n",
            "··········\n",
            "Mounted at /content/drive\n"
          ],
          "name": "stdout"
        }
      ]
    },
    {
      "cell_type": "code",
      "metadata": {
        "id": "hIAbnRhKbDH-"
      },
      "source": [
        "import pandas as pd\n",
        "df = pd.read_csv('/content/drive/My Drive/DSF Homework/final_check_0_9') \n",
        "df = df[df.created_at.notnull()]\n"
      ],
      "execution_count": null,
      "outputs": []
    },
    {
      "cell_type": "code",
      "metadata": {
        "id": "1ikT0NqXw-O4"
      },
      "source": [
        "import pandas as pd\n",
        "df_july = pd.read_csv('/content/drive/My Drive/DSF Homework/data_jul_0_9') \n",
        "df_july = df_july[df_july.created_at.notnull()]"
      ],
      "execution_count": null,
      "outputs": []
    },
    {
      "cell_type": "code",
      "metadata": {
        "id": "Psp-iEOJr_Zy"
      },
      "source": [
        "df_model = pd.read_csv('/content/drive/My Drive/DSF Homework/Untitled spreadsheet - Sheet1.csv')"
      ],
      "execution_count": null,
      "outputs": []
    },
    {
      "cell_type": "code",
      "metadata": {
        "id": "HbYgLlqaaVQg"
      },
      "source": [
        "df_json.iloc[298]['user']"
      ],
      "execution_count": null,
      "outputs": []
    },
    {
      "cell_type": "code",
      "metadata": {
        "id": "FKvuEmX4jD7B"
      },
      "source": [
        "df['created_at'] = pd.to_datetime(df['created_at'], errors='coerce')"
      ],
      "execution_count": null,
      "outputs": []
    },
    {
      "cell_type": "code",
      "metadata": {
        "id": "xDoSpbBsxNhi"
      },
      "source": [
        "df_july['created_at'] = pd.to_datetime(df_july['created_at'], errors='coerce')"
      ],
      "execution_count": null,
      "outputs": []
    },
    {
      "cell_type": "code",
      "metadata": {
        "id": "L7ZiyZm4cn1z",
        "colab": {
          "base_uri": "https://localhost:8080/",
          "height": 102
        },
        "outputId": "e8d935be-bd10-437c-dff6-972afeae3bde"
      },
      "source": [
        "df.loc[df['place'] == \"place\"].count()"
      ],
      "execution_count": null,
      "outputs": [
        {
          "output_type": "execute_result",
          "data": {
            "text/plain": [
              "Unnamed: 0      0\n",
              "created_at      0\n",
              "place         208\n",
              "user          208\n",
              "dtype: int64"
            ]
          },
          "metadata": {
            "tags": []
          },
          "execution_count": 71
        }
      ]
    },
    {
      "cell_type": "code",
      "metadata": {
        "id": "BHicfMXdWP0j"
      },
      "source": [
        "df = df[df.place.notnull()]"
      ],
      "execution_count": null,
      "outputs": []
    },
    {
      "cell_type": "code",
      "metadata": {
        "id": "U7hmSzDKxTwK"
      },
      "source": [
        "df_july = df_july[df_july.place.notnull()]"
      ],
      "execution_count": null,
      "outputs": []
    },
    {
      "cell_type": "code",
      "metadata": {
        "id": "dSkoffQBXsTh"
      },
      "source": [
        "def add_county(place):\n",
        "  try:\n",
        "    place_new = eval(place) \n",
        "    return place_new['country']\n",
        "  except Exception as e:\n",
        "    return \"empty\"\n",
        "\n",
        "df['country']=df['place'].apply(add_county)"
      ],
      "execution_count": null,
      "outputs": []
    },
    {
      "cell_type": "code",
      "metadata": {
        "id": "lXWpibe6xZch"
      },
      "source": [
        "df_july['country']=df_july['place'].apply(add_county)"
      ],
      "execution_count": null,
      "outputs": []
    },
    {
      "cell_type": "code",
      "metadata": {
        "id": "pUnv1odof4sS"
      },
      "source": [
        "def add_place(place):\n",
        "  try:\n",
        "    place_new = eval(place) \n",
        "    return place_new['name']\n",
        "  except Exception as e:\n",
        "    return \"empty\"\n",
        "df['city']=df['place'].apply(add_place)"
      ],
      "execution_count": null,
      "outputs": []
    },
    {
      "cell_type": "code",
      "metadata": {
        "id": "oJpVDp2rxeM2"
      },
      "source": [
        "df_july['city']=df_july['place'].apply(add_place)"
      ],
      "execution_count": null,
      "outputs": []
    },
    {
      "cell_type": "code",
      "metadata": {
        "id": "XuemBUucZJUV"
      },
      "source": [
        "df.drop(df[df.place==\"place\"].index,inplace=True)"
      ],
      "execution_count": null,
      "outputs": []
    },
    {
      "cell_type": "code",
      "metadata": {
        "id": "6sU-y20BxiFx"
      },
      "source": [
        "df_july.drop(df_july[df_july.place==\"place\"].index,inplace=True)"
      ],
      "execution_count": null,
      "outputs": []
    },
    {
      "cell_type": "code",
      "metadata": {
        "id": "5dmJJKN2iJSS"
      },
      "source": [
        "import pandas as pd\n",
        "df1 = pd.read_csv('/content/drive/My Drive/DSF Homework/final_check_10_19') "
      ],
      "execution_count": null,
      "outputs": []
    },
    {
      "cell_type": "code",
      "metadata": {
        "id": "Ow44h6Ukxp2Q"
      },
      "source": [
        "df2 = pd.read_csv('/content/drive/My Drive/DSF Homework/data_jul_10_19')"
      ],
      "execution_count": null,
      "outputs": []
    },
    {
      "cell_type": "code",
      "metadata": {
        "id": "wRst2MrBibXZ"
      },
      "source": [
        "df1['created_at'] = pd.to_datetime(df1['created_at'], errors='coerce')\n",
        "df1 = df1[df1.created_at.notnull()]"
      ],
      "execution_count": null,
      "outputs": []
    },
    {
      "cell_type": "code",
      "metadata": {
        "id": "Xp_9e63Fxy16"
      },
      "source": [
        "df2['created_at'] = pd.to_datetime(df2['created_at'], errors='coerce')\n",
        "df2 = df2[df2.created_at.notnull()]"
      ],
      "execution_count": null,
      "outputs": []
    },
    {
      "cell_type": "code",
      "metadata": {
        "id": "LFzAXBiQiiFs"
      },
      "source": [
        "def add_county(place):\n",
        "  try:\n",
        "    place_new = eval(place) \n",
        "    return place_new['country']\n",
        "  except Exception as e:\n",
        "    return \"empty\"\n",
        "\n",
        "df1['country']=df1['place'].apply(add_county)"
      ],
      "execution_count": null,
      "outputs": []
    },
    {
      "cell_type": "code",
      "metadata": {
        "id": "rlYxfDRgzK3T"
      },
      "source": [
        "df2['country']=df2['place'].apply(add_county)"
      ],
      "execution_count": null,
      "outputs": []
    },
    {
      "cell_type": "code",
      "metadata": {
        "id": "2kr5kenZintW"
      },
      "source": [
        "def add_place(place):\n",
        "  try:\n",
        "    place_new = eval(place) \n",
        "    return place_new['name']\n",
        "  except Exception as e:\n",
        "    return \"empty\"\n",
        "df1['city']=df1['place'].apply(add_place)"
      ],
      "execution_count": null,
      "outputs": []
    },
    {
      "cell_type": "code",
      "metadata": {
        "id": "2Ck_B7g9zWAB"
      },
      "source": [
        "df2['city']=df2['place'].apply(add_place)"
      ],
      "execution_count": null,
      "outputs": []
    },
    {
      "cell_type": "code",
      "metadata": {
        "id": "WEy0wch-i_yT"
      },
      "source": [
        "df1.drop(df1[df1.place==\"place\"].index,inplace=True)"
      ],
      "execution_count": null,
      "outputs": []
    },
    {
      "cell_type": "code",
      "metadata": {
        "id": "FJ83DiH6zfTh"
      },
      "source": [
        "df2.drop(df2[df2.place==\"place\"].index,inplace=True)"
      ],
      "execution_count": null,
      "outputs": []
    },
    {
      "cell_type": "code",
      "metadata": {
        "id": "h9KJPjjxjPQg"
      },
      "source": [
        "df = pd.concat([df,df1])"
      ],
      "execution_count": null,
      "outputs": []
    },
    {
      "cell_type": "code",
      "metadata": {
        "id": "FPQUkfnNzw6x"
      },
      "source": [
        "df_july = pd.concat([df_july,df2])"
      ],
      "execution_count": null,
      "outputs": []
    },
    {
      "cell_type": "code",
      "metadata": {
        "id": "3bxNC3Yfjxu9",
        "colab": {
          "base_uri": "https://localhost:8080/",
          "height": 34
        },
        "outputId": "1fe365b6-2403-43e2-87e5-2da172c7c9e5"
      },
      "source": [
        "df.shape"
      ],
      "execution_count": null,
      "outputs": [
        {
          "output_type": "execute_result",
          "data": {
            "text/plain": [
              "(1509824, 6)"
            ]
          },
          "metadata": {
            "tags": []
          },
          "execution_count": 33
        }
      ]
    },
    {
      "cell_type": "code",
      "metadata": {
        "id": "AlayRsjajj5i"
      },
      "source": [
        "import pandas as pd\n",
        "df1 = pd.read_csv('/content/drive/My Drive/DSF Homework/final_check_20_29') \n",
        "df1['created_at'] = pd.to_datetime(df1['created_at'], errors='coerce')\n",
        "df1 = df1[df1.created_at.notnull()]\n",
        "df1['country']=df1['place'].apply(add_county)\n",
        "df1['city']=df1['place'].apply(add_place)\n",
        "df1.drop(df1[df1.place==\"place\"].index,inplace=True)\n",
        "df = pd.concat([df,df1])"
      ],
      "execution_count": null,
      "outputs": []
    },
    {
      "cell_type": "code",
      "metadata": {
        "id": "yFLQhMRxz74V"
      },
      "source": [
        "import pandas as pd\n",
        "df2 = pd.read_csv('/content/drive/My Drive/DSF Homework/data_jul_20_29') \n",
        "df2['created_at'] = pd.to_datetime(df2['created_at'], errors='coerce')\n",
        "df2 = df2[df2.created_at.notnull()]\n",
        "df2['country']=df2['place'].apply(add_county)\n",
        "df2['city']=df2['place'].apply(add_place)\n",
        "df2.drop(df2[df2.place==\"place\"].index,inplace=True)\n",
        "df_july = pd.concat([df_july,df2])"
      ],
      "execution_count": null,
      "outputs": []
    },
    {
      "cell_type": "code",
      "metadata": {
        "id": "VUk2RDs8j-Oq"
      },
      "source": [
        "import pandas as pd\n",
        "df1 = pd.read_csv('/content/drive/My Drive/DSF Homework/final_check_30_31') \n",
        "df1['created_at'] = pd.to_datetime(df1['created_at'], errors='coerce')\n",
        "df1 = df1[df1.created_at.notnull()]\n",
        "df1['country']=df1['place'].apply(add_county)\n",
        "df1['city']=df1['place'].apply(add_place)\n",
        "df1.drop(df1[df1.place==\"place\"].index,inplace=True)\n",
        "df = pd.concat([df,df1])"
      ],
      "execution_count": null,
      "outputs": []
    },
    {
      "cell_type": "code",
      "metadata": {
        "id": "bxQE6X4I0nDl"
      },
      "source": [
        "import pandas as pd\n",
        "df2 = pd.read_csv('/content/drive/My Drive/DSF Homework/data_jul_30_31') \n",
        "df2['created_at'] = pd.to_datetime(df2['created_at'], errors='coerce')\n",
        "df2 = df2[df2.created_at.notnull()]\n",
        "df2['country']=df2['place'].apply(add_county)\n",
        "df2['city']=df2['place'].apply(add_place)\n",
        "df2.drop(df2[df2.place==\"place\"].index,inplace=True)\n",
        "df_july = pd.concat([df_july,df2])"
      ],
      "execution_count": null,
      "outputs": []
    },
    {
      "cell_type": "code",
      "metadata": {
        "id": "NThp17pEd-Ye",
        "colab": {
          "base_uri": "https://localhost:8080/",
          "height": 136
        },
        "outputId": "539eb0a5-2f5a-42f9-f73a-14eae3d9bb0a"
      },
      "source": [
        "df.loc[df['city'] == \"empty\"].count()"
      ],
      "execution_count": null,
      "outputs": [
        {
          "output_type": "execute_result",
          "data": {
            "text/plain": [
              "Unnamed: 0    0\n",
              "created_at    0\n",
              "place         0\n",
              "user          0\n",
              "country       0\n",
              "city          0\n",
              "dtype: int64"
            ]
          },
          "metadata": {
            "tags": []
          },
          "execution_count": 36
        }
      ]
    },
    {
      "cell_type": "code",
      "metadata": {
        "id": "nCMYkZIyi-ej"
      },
      "source": [
        ""
      ],
      "execution_count": null,
      "outputs": []
    },
    {
      "cell_type": "code",
      "metadata": {
        "id": "me3WENA-Xupm",
        "colab": {
          "base_uri": "https://localhost:8080/",
          "height": 142
        },
        "outputId": "91175400-9c5d-459d-a3f9-11b419a481dd"
      },
      "source": [
        "from datetime import timedelta\n",
        "df['created_at'][df['city']=='Los Angeles']=df['created_at']-timedelta(hours=8)\n",
        "df['created_at'][df['city']=='Chicago']=df['created_at']-timedelta(hours=5)\n",
        "df['created_at'][df['city']=='Washington']=df['created_at']-timedelta(hours=8)\n",
        "df['created_at'][df['city']=='Phoenix']=df['created_at']-timedelta(hours=7)\n",
        "df['created_at'][df['city']=='Anchorage']=df['created_at']-timedelta(hours=9)\n",
        "df['created_at'][df['city']=='Honolulu']=df['created_at']-timedelta(hours=10)"
      ],
      "execution_count": null,
      "outputs": [
        {
          "output_type": "stream",
          "text": [
            "/usr/local/lib/python3.6/dist-packages/ipykernel_launcher.py:2: SettingWithCopyWarning: \n",
            "A value is trying to be set on a copy of a slice from a DataFrame\n",
            "\n",
            "See the caveats in the documentation: http://pandas.pydata.org/pandas-docs/stable/user_guide/indexing.html#returning-a-view-versus-a-copy\n",
            "  \n"
          ],
          "name": "stderr"
        }
      ]
    },
    {
      "cell_type": "code",
      "metadata": {
        "id": "MHpfOcOm1If2",
        "colab": {
          "base_uri": "https://localhost:8080/",
          "height": 142
        },
        "outputId": "9b9e6254-534f-4140-a52f-82ccf27e5bb4"
      },
      "source": [
        "df_july['created_at'][df_july['city']=='Chicago']=df_july['created_at']-timedelta(hours=5)"
      ],
      "execution_count": null,
      "outputs": [
        {
          "output_type": "stream",
          "text": [
            "/usr/local/lib/python3.6/dist-packages/ipykernel_launcher.py:1: SettingWithCopyWarning: \n",
            "A value is trying to be set on a copy of a slice from a DataFrame\n",
            "\n",
            "See the caveats in the documentation: http://pandas.pydata.org/pandas-docs/stable/user_guide/indexing.html#returning-a-view-versus-a-copy\n",
            "  \"\"\"Entry point for launching an IPython kernel.\n"
          ],
          "name": "stderr"
        }
      ]
    },
    {
      "cell_type": "code",
      "metadata": {
        "id": "-Mq74AbGiySJ"
      },
      "source": [
        "df['year'] = df['created_at'].dt.year"
      ],
      "execution_count": null,
      "outputs": []
    },
    {
      "cell_type": "code",
      "metadata": {
        "id": "r3W3Eb9cjVzl"
      },
      "source": [
        "df['month'] = df['created_at'].dt.month\n",
        "df['day'] = df['created_at'].dt.day\n",
        "df['hour'] = df['created_at'].dt.hour"
      ],
      "execution_count": null,
      "outputs": []
    },
    {
      "cell_type": "code",
      "metadata": {
        "id": "er30d-o91RZi"
      },
      "source": [
        "df_july['year'] = df_july['created_at'].dt.year\n",
        "df_july['month'] = df_july['created_at'].dt.month\n",
        "df_july['day'] = df_july['created_at'].dt.day\n",
        "df_july['hour'] = df_july['created_at'].dt.hour"
      ],
      "execution_count": null,
      "outputs": []
    },
    {
      "cell_type": "code",
      "metadata": {
        "id": "t9bufYA2rUUk"
      },
      "source": [
        "df['day']"
      ],
      "execution_count": null,
      "outputs": []
    },
    {
      "cell_type": "code",
      "metadata": {
        "id": "Ngeqvum1w5Xa"
      },
      "source": [
        "df['tweet_count_for_day']=df."
      ],
      "execution_count": null,
      "outputs": []
    },
    {
      "cell_type": "code",
      "metadata": {
        "id": "AM26zj-QzWBY",
        "colab": {
          "base_uri": "https://localhost:8080/",
          "height": 51
        },
        "outputId": "16691369-90cc-43ca-84f9-9bea8ead4e26"
      },
      "source": [
        "df['city'].unique()"
      ],
      "execution_count": null,
      "outputs": [
        {
          "output_type": "execute_result",
          "data": {
            "text/plain": [
              "array(['Delano', 'Sekupang', 'Garden City', ..., 'จ.สระบุรี',\n",
              "       'Failaka Island', 'Mundesley'], dtype=object)"
            ]
          },
          "metadata": {
            "tags": []
          },
          "execution_count": 45
        }
      ]
    },
    {
      "cell_type": "code",
      "metadata": {
        "id": "OBKoU35w0V6y"
      },
      "source": [
        "df['city'][df['city']==\"Illinois\"]='Chicago'"
      ],
      "execution_count": null,
      "outputs": []
    },
    {
      "cell_type": "code",
      "metadata": {
        "id": "zNToTzjY15cs"
      },
      "source": [
        "df_july['city'][df_july['city']==\"Illinois\"]='Chicago'"
      ],
      "execution_count": null,
      "outputs": []
    },
    {
      "cell_type": "code",
      "metadata": {
        "id": "Flc8xgR-y9ov",
        "colab": {
          "base_uri": "https://localhost:8080/",
          "height": 34
        },
        "outputId": "3742af07-9d6f-4fa6-ecb4-35d823d60a7d"
      },
      "source": [
        "df.loc[(df['city']=='Chicago')].shape"
      ],
      "execution_count": null,
      "outputs": [
        {
          "output_type": "execute_result",
          "data": {
            "text/plain": [
              "(11292, 10)"
            ]
          },
          "metadata": {
            "tags": []
          },
          "execution_count": 49
        }
      ]
    },
    {
      "cell_type": "code",
      "metadata": {
        "id": "2AlW6TVtGyWe"
      },
      "source": [
        "df_temp = df.loc[(df['city']=='Chicago')]"
      ],
      "execution_count": null,
      "outputs": []
    },
    {
      "cell_type": "code",
      "metadata": {
        "id": "P8JwUGI32Anl"
      },
      "source": [
        "df_temp_july = df_july.loc[(df_july['city']=='Chicago')]"
      ],
      "execution_count": null,
      "outputs": []
    },
    {
      "cell_type": "code",
      "metadata": {
        "id": "rZorhlp1G4w0",
        "colab": {
          "base_uri": "https://localhost:8080/",
          "height": 51
        },
        "outputId": "d23e53b0-8113-4056-b318-695b2077c8f7"
      },
      "source": [
        "df_temp.hour.unique()"
      ],
      "execution_count": null,
      "outputs": [
        {
          "output_type": "execute_result",
          "data": {
            "text/plain": [
              "array([ 2,  7, 23, 18,  1,  6, 17, 22,  3,  4, 12,  8, 16, 21, 13,  9, 11,\n",
              "       10, 15,  5, 19,  0, 14, 20])"
            ]
          },
          "metadata": {
            "tags": []
          },
          "execution_count": 109
        }
      ]
    },
    {
      "cell_type": "code",
      "metadata": {
        "id": "YzEUhCdBP_z2"
      },
      "source": [
        ""
      ],
      "execution_count": null,
      "outputs": []
    },
    {
      "cell_type": "code",
      "metadata": {
        "id": "r6_78R3NGaS3",
        "colab": {
          "base_uri": "https://localhost:8080/",
          "height": 122
        },
        "outputId": "999ae1fa-608f-4300-f5f9-39374394b95c"
      },
      "source": [
        "def category_class(row):\n",
        "  if(row >=0 and row <8):\n",
        "    return 0\n",
        "  if (row >8 and row <=16):\n",
        "    return 1\n",
        "  if (row >16 and row <=23):\n",
        "    return 2\n",
        "  # if (row >9 and row <=12):\n",
        "  #   return 3\n",
        "  # if (row >12 and row <=15):\n",
        "  #   return 4\n",
        "  # if (row >15 and row <=18):\n",
        "  #   return 5\n",
        "  # if (row >18 and row <=21):\n",
        "  #   return 6\n",
        "  # if (row >21 and row <=23):\n",
        "  #   return 7  \n",
        "df_temp['category']=df_temp['hour'].apply(category_class)"
      ],
      "execution_count": null,
      "outputs": [
        {
          "output_type": "stream",
          "text": [
            "/usr/local/lib/python3.6/dist-packages/ipykernel_launcher.py:18: SettingWithCopyWarning: \n",
            "A value is trying to be set on a copy of a slice from a DataFrame.\n",
            "Try using .loc[row_indexer,col_indexer] = value instead\n",
            "\n",
            "See the caveats in the documentation: http://pandas.pydata.org/pandas-docs/stable/user_guide/indexing.html#returning-a-view-versus-a-copy\n"
          ],
          "name": "stderr"
        }
      ]
    },
    {
      "cell_type": "code",
      "metadata": {
        "id": "5TlzR-Hh2OvO",
        "colab": {
          "base_uri": "https://localhost:8080/",
          "height": 139
        },
        "outputId": "da7504de-ef45-4fb9-c6b4-0c2c88336fac"
      },
      "source": [
        "df_temp_july['category']=df_temp_july['hour'].apply(category_class)"
      ],
      "execution_count": null,
      "outputs": [
        {
          "output_type": "stream",
          "text": [
            "/usr/local/lib/python3.6/dist-packages/ipykernel_launcher.py:1: SettingWithCopyWarning: \n",
            "A value is trying to be set on a copy of a slice from a DataFrame.\n",
            "Try using .loc[row_indexer,col_indexer] = value instead\n",
            "\n",
            "See the caveats in the documentation: http://pandas.pydata.org/pandas-docs/stable/user_guide/indexing.html#returning-a-view-versus-a-copy\n",
            "  \"\"\"Entry point for launching an IPython kernel.\n"
          ],
          "name": "stderr"
        }
      ]
    },
    {
      "cell_type": "code",
      "metadata": {
        "id": "IO3Y9fmBJSIk",
        "colab": {
          "base_uri": "https://localhost:8080/",
          "height": 34
        },
        "outputId": "1a30f04a-581e-40cb-af42-5d0b5e2966f6"
      },
      "source": [
        "df_temp.category.unique()"
      ],
      "execution_count": null,
      "outputs": [
        {
          "output_type": "execute_result",
          "data": {
            "text/plain": [
              "array([0, 2, 7, 5, 1, 3, 6, 4])"
            ]
          },
          "metadata": {
            "tags": []
          },
          "execution_count": 124
        }
      ]
    },
    {
      "cell_type": "code",
      "metadata": {
        "id": "C6C4URcom4Aj",
        "colab": {
          "base_uri": "https://localhost:8080/",
          "height": 34
        },
        "outputId": "33ba5bda-f02a-43d5-f71f-5ffb9e2a7da9"
      },
      "source": [
        "P_emaildomain = df_temp.loc[(df_temp['day']==24)&df_temp['hour']==2]\n",
        "P_emaildomain.shape\n"
      ],
      "execution_count": null,
      "outputs": [
        {
          "output_type": "execute_result",
          "data": {
            "text/plain": [
              "(0, 11)"
            ]
          },
          "metadata": {
            "tags": []
          },
          "execution_count": 175
        }
      ]
    },
    {
      "cell_type": "code",
      "metadata": {
        "id": "th809KZBRtos",
        "colab": {
          "base_uri": "https://localhost:8080/",
          "height": 450
        },
        "outputId": "b21dabc7-e884-4a48-ef65-798e104d7cd5"
      },
      "source": [
        "import numpy as np\n",
        "import matplotlib.pyplot as plt \n",
        "fig, ax = plt.subplots(figsize=(15,7))\n",
        "list=[]\n",
        "# plt.gcf().subplots_adjust(bottom=0.15)\n",
        "# fig.tight_layout()\n",
        "for labels,fg in df_temp.groupby('category'):\n",
        "    fg.groupby(['day']).count()['hour'].plot(ax=ax)\n",
        "    if(labels ==0.0):\n",
        "      list.append(\"0-8\")\n",
        "    elif(labels ==1.0):\n",
        "      list.append(\"9-16\")\n",
        "    else:\n",
        "      list.append(\"17-23\")\n",
        "\n",
        "plt.xticks(np.arange(0, 32, step=1))\n",
        "plt.xlabel('Day in December', fontsize=18)\n",
        "plt.ylabel('Number of tweets in thousands', fontsize=16)\n",
        "ax.legend(list)\n",
        "ax.grid(axis=\"x\", color=\"green\", alpha=.3, linewidth=2, linestyle=\":\")\n",
        "ax.grid(axis=\"y\", color=\"black\", alpha=.5, linewidth=.5)\n",
        "# plt.figure(figsize=(800,200))\n",
        "# plt.show()"
      ],
      "execution_count": null,
      "outputs": [
        {
          "output_type": "display_data",
          "data": {
            "image/png": "[encoded data removed]",
            "text/plain": [
              "<Figure size 1080x504 with 1 Axes>"
            ]
          },
          "metadata": {
            "tags": []
          }
        }
      ]
    },
    {
      "cell_type": "code",
      "metadata": {
        "id": "a7ECjTPB2bfE",
        "colab": {
          "base_uri": "https://localhost:8080/",
          "height": 450
        },
        "outputId": "7d2208ed-04bc-4e2d-9bb2-828ab55e72e4"
      },
      "source": [
        "import numpy as np\n",
        "fig, ax = plt.subplots(figsize=(15,7))\n",
        "list=[]\n",
        "# plt.gcf().subplots_adjust(bottom=0.15)\n",
        "# fig.tight_layout()\n",
        "for labels,fg in df_temp_july.groupby('category'):\n",
        "    fg.groupby(['day']).count()['hour'].plot(ax=ax)\n",
        "    if(labels ==0.0):\n",
        "      list.append(\"0-8\")\n",
        "    elif(labels ==1.0):\n",
        "      list.append(\"9-16\")\n",
        "    else:\n",
        "      list.append(\"17-23\")\n",
        "\n",
        "plt.xticks(np.arange(0, 32, step=1))\n",
        "plt.xlabel('Day in July', fontsize=18)\n",
        "plt.ylabel('Number of tweets in thousands', fontsize=16)\n",
        "ax.legend(list)\n",
        "ax.grid(axis=\"x\", color=\"green\", alpha=.3, linewidth=2, linestyle=\":\")\n",
        "ax.grid(axis=\"y\", color=\"black\", alpha=.5, linewidth=.5)\n",
        "# plt.figure(figsize=(800,200))\n",
        "# plt.show()"
      ],
      "execution_count": null,
      "outputs": [
        {
          "output_type": "display_data",
          "data": {
            "image/png": "[encoded data removed]",
            "text/plain": [
              "<Figure size 1080x504 with 1 Axes>"
            ]
          },
          "metadata": {
            "tags": []
          }
        }
      ]
    },
    {
      "cell_type": "code",
      "metadata": {
        "id": "5l0jxObXvs2h",
        "colab": {
          "base_uri": "https://localhost:8080/",
          "height": 312
        },
        "outputId": "b8c78b6a-78ff-4e77-ec9f-1ff7fcf0cb33"
      },
      "source": [
        "import matplotlib.pyplot as plt \n",
        "fig, ax = plt.subplots()\n",
        "P_emaildomain = df.loc[(df['city']=='Chicago')]['hour'].value_counts()\n",
        "xaxis = P_emaildomain.index\n",
        "yaxis = P_emaildomain.values\n",
        "total = sum(yaxis)\n",
        "newList = [x*100 / total for x in yaxis]\n",
        "\n",
        "plt.xlabel('Hour of the day')\n",
        "plt.ylabel('% of people tweeting')\n",
        "plt.title('Tweets of Washington on 24 Dec 2015')\n",
        "ax.bar(xaxis,newList,color='#E69F00')\n"
      ],
      "execution_count": null,
      "outputs": [
        {
          "output_type": "execute_result",
          "data": {
            "text/plain": [
              "<BarContainer object of 24 artists>"
            ]
          },
          "metadata": {
            "tags": []
          },
          "execution_count": 85
        },
        {
          "output_type": "display_data",
          "data": {
            "image/png": "[encoded data removed]",
            "text/plain": [
              "<Figure size 432x288 with 1 Axes>"
            ]
          },
          "metadata": {
            "tags": []
          }
        }
      ]
    },
    {
      "cell_type": "code",
      "metadata": {
        "id": "TKtN3aqlq3CI",
        "colab": {
          "base_uri": "https://localhost:8080/",
          "height": 312
        },
        "outputId": "72ddb96a-9ce3-4856-868d-0c51283ee3e8"
      },
      "source": [
        "import matplotlib.pyplot as plt \n",
        "fig, ax = plt.subplots()\n",
        "P_emaildomain = df.loc[(df['city']=='Washington')&(df['day']==24)]['hour'].value_counts()\n",
        "xaxis = P_emaildomain.index\n",
        "yaxis = P_emaildomain.values\n",
        "total = sum(yaxis)\n",
        "newList = [x*100 / total for x in yaxis]\n",
        "\n",
        "plt.xlabel('Hour of the day')\n",
        "plt.ylabel('% of people tweeting')\n",
        "plt.title('Tweets of Washington on 24 Dec 2015')\n",
        "ax.bar(xaxis,newList,color='#E69F00')"
      ],
      "execution_count": null,
      "outputs": [
        {
          "output_type": "execute_result",
          "data": {
            "text/plain": [
              "<BarContainer object of 22 artists>"
            ]
          },
          "metadata": {
            "tags": []
          },
          "execution_count": 93
        },
        {
          "output_type": "display_data",
          "data": {
            "image/png": "[encoded data removed]",
            "text/plain": [
              "<Figure size 432x288 with 1 Axes>"
            ]
          },
          "metadata": {
            "tags": []
          }
        }
      ]
    },
    {
      "cell_type": "code",
      "metadata": {
        "id": "5i0TjI-4rfX_",
        "colab": {
          "base_uri": "https://localhost:8080/",
          "height": 312
        },
        "outputId": "40f08e40-1057-42ee-ca58-468099e200f7"
      },
      "source": [
        "import matplotlib.pyplot as plt \n",
        "fig, ax = plt.subplots()\n",
        "P_emaildomain = df.loc[(df['city']=='Washington')&(df['day']==25)]['hour'].value_counts()\n",
        "xaxis = P_emaildomain.index\n",
        "yaxis = P_emaildomain.values\n",
        "total = sum(yaxis)\n",
        "newList = [x*100 / total for x in yaxis]\n",
        "\n",
        "plt.xlabel('Hour of the day')\n",
        "plt.ylabel('% of people tweeting')\n",
        "plt.title('Tweets of Washington on 25 Dec 2015')\n",
        "ax.bar(xaxis,newList,color='#E69F00')"
      ],
      "execution_count": null,
      "outputs": [
        {
          "output_type": "execute_result",
          "data": {
            "text/plain": [
              "<BarContainer object of 24 artists>"
            ]
          },
          "metadata": {
            "tags": []
          },
          "execution_count": 94
        },
        {
          "output_type": "display_data",
          "data": {
            "image/png": "[encoded data removed]",
            "text/plain": [
              "<Figure size 432x288 with 1 Axes>"
            ]
          },
          "metadata": {
            "tags": []
          }
        }
      ]
    },
    {
      "cell_type": "code",
      "metadata": {
        "id": "2_Kil38Dri_P",
        "colab": {
          "base_uri": "https://localhost:8080/",
          "height": 312
        },
        "outputId": "70e98c85-3357-482b-9401-85a1d1dd203c"
      },
      "source": [
        "import matplotlib.pyplot as plt \n",
        "fig, ax = plt.subplots()\n",
        "P_emaildomain = df.loc[(df['city']=='Washington')&(df['day']==26)]['hour'].value_counts()\n",
        "xaxis = P_emaildomain.index\n",
        "yaxis = P_emaildomain.values\n",
        "total = sum(yaxis)\n",
        "newList = [x*100 / total for x in yaxis]\n",
        "\n",
        "plt.xlabel('Hour of the day')\n",
        "plt.ylabel('% of people tweeting')\n",
        "plt.title('Tweets of Washington on 26 Dec 2015')\n",
        "ax.bar(xaxis,newList,color='#E69F00')"
      ],
      "execution_count": null,
      "outputs": [
        {
          "output_type": "execute_result",
          "data": {
            "text/plain": [
              "<BarContainer object of 21 artists>"
            ]
          },
          "metadata": {
            "tags": []
          },
          "execution_count": 95
        },
        {
          "output_type": "display_data",
          "data": {
            "image/png": "[encoded data removed]",
            "text/plain": [
              "<Figure size 432x288 with 1 Axes>"
            ]
          },
          "metadata": {
            "tags": []
          }
        }
      ]
    },
    {
      "cell_type": "code",
      "metadata": {
        "id": "bdPZy5vtjt-D",
        "colab": {
          "base_uri": "https://localhost:8080/",
          "height": 142
        },
        "outputId": "f0c69517-78fe-4c35-e0fd-c6113ff109fd"
      },
      "source": [
        "df['country'][df['country']==\"भारत\"]='India'"
      ],
      "execution_count": null,
      "outputs": [
        {
          "output_type": "stream",
          "text": [
            "/usr/local/lib/python3.6/dist-packages/ipykernel_launcher.py:1: SettingWithCopyWarning: \n",
            "A value is trying to be set on a copy of a slice from a DataFrame\n",
            "\n",
            "See the caveats in the documentation: http://pandas.pydata.org/pandas-docs/stable/user_guide/indexing.html#returning-a-view-versus-a-copy\n",
            "  \"\"\"Entry point for launching an IPython kernel.\n"
          ],
          "name": "stderr"
        }
      ]
    },
    {
      "cell_type": "code",
      "metadata": {
        "id": "syFtwlo7j3ll"
      },
      "source": [
        "df_new = df.loc[df['country']==\"United States\"]['city'].unique()"
      ],
      "execution_count": null,
      "outputs": []
    },
    {
      "cell_type": "code",
      "metadata": {
        "id": "JAuR4AW-l5s-"
      },
      "source": [
        "df_new.tolist()\n"
      ],
      "execution_count": null,
      "outputs": []
    },
    {
      "cell_type": "code",
      "metadata": {
        "id": "DcHEiCkllXhs"
      },
      "source": [
        "pd.set_option('display.max_rows', None)\n",
        "pd.set_option('display.max_columns', None)"
      ],
      "execution_count": null,
      "outputs": []
    },
    {
      "cell_type": "code",
      "metadata": {
        "id": "xp6PfPB2owOW",
        "colab": {
          "base_uri": "https://localhost:8080/",
          "height": 384
        },
        "outputId": "10069c4a-d6fd-4ea9-d7d6-ffa6c0f76e3b"
      },
      "source": [
        "import matplotlib.pyplot as plt \n",
        "fig, ax = plt.subplots()\n",
        "P_emaildomain = df.loc[df['city']=='Los Angeles']['hour'].value_counts()\n",
        "xaxis = P_emaildomain.index\n",
        "yaxis = P_emaildomain.values\n",
        "total = sum(yaxis)\n",
        "print(yaxis)\n",
        "print(total)\n",
        "newList = [x*100 / total for x in yaxis]\n",
        "print(newList)\n",
        "plt.xlabel('Hour of the day')\n",
        "plt.ylabel('% of people tweeting')\n",
        "ax.bar(xaxis,newList,color='#E69F00')"
      ],
      "execution_count": null,
      "outputs": [
        {
          "output_type": "stream",
          "text": [
            "[972 967 932 920 877 834 822 815 811 784 761 743 692 687 639 601 524 419\n",
            " 343 300 184 144 138 108]\n",
            "15017\n",
            "[6.4726643137777184, 6.439368715455816, 6.206299527202503, 6.12639009122994, 5.840047945661584, 5.553705800093228, 5.4737963641206635, 5.427182526470001, 5.40054604781248, 5.220749816874209, 5.06759006459346, 4.947725910634614, 4.608110807751215, 4.574815209429313, 4.255177465539056, 4.002130918292602, 3.4893787041353135, 2.7901711393753748, 2.2840780448824667, 1.9977358993141108, 1.225278018245988, 0.9589132316707731, 0.9189585136844909, 0.7191849237530799]\n"
          ],
          "name": "stdout"
        },
        {
          "output_type": "execute_result",
          "data": {
            "text/plain": [
              "<BarContainer object of 24 artists>"
            ]
          },
          "metadata": {
            "tags": []
          },
          "execution_count": 96
        },
        {
          "output_type": "display_data",
          "data": {
            "image/png": "[encoded data removed]",
            "text/plain": [
              "<Figure size 432x288 with 1 Axes>"
            ]
          },
          "metadata": {
            "tags": []
          }
        }
      ]
    },
    {
      "cell_type": "code",
      "metadata": {
        "id": "6_KcJq_oo1dL",
        "colab": {
          "base_uri": "https://localhost:8080/",
          "height": 384
        },
        "outputId": "6a1d1148-f6a4-439f-84fc-f8392f7d60e7"
      },
      "source": [
        "import matplotlib.pyplot as plt \n",
        "fig, ax = plt.subplots()\n",
        "P_emaildomain = df.loc[df['city']=='Chicago']['hour'].value_counts()\n",
        "xaxis = P_emaildomain.index\n",
        "yaxis = P_emaildomain.values\n",
        "total = sum(yaxis)\n",
        "print(yaxis)\n",
        "print(total)\n",
        "newList = [x*100 / total for x in yaxis]\n",
        "print(newList)\n",
        "plt.xlabel('Hour of the day')\n",
        "plt.ylabel('% of people tweeting')\n",
        "ax.bar(xaxis,newList,color='#E69F00')"
      ],
      "execution_count": null,
      "outputs": [
        {
          "output_type": "stream",
          "text": [
            "[735 707 705 661 623 614 593 560 554 554 548 540 487 456 446 393 358 326\n",
            " 322 283 234 227 198 168]\n",
            "11292\n",
            "[6.50903294367694, 6.261069783917818, 6.243358129649309, 5.853701735742118, 5.517180304640453, 5.437477860432164, 5.251505490612823, 4.95926319518243, 4.906128232376904, 4.906128232376904, 4.852993269571378, 4.782146652497343, 4.312787814381863, 4.038257173219979, 3.9496989018774356, 3.4803400637619553, 3.1703861140630534, 2.8869996457669145, 2.8515763372298975, 2.506199078993978, 2.0722635494155153, 2.0102727594757352, 1.7534537725823591, 1.487778958554729]\n"
          ],
          "name": "stdout"
        },
        {
          "output_type": "execute_result",
          "data": {
            "text/plain": [
              "<BarContainer object of 24 artists>"
            ]
          },
          "metadata": {
            "tags": []
          },
          "execution_count": 97
        },
        {
          "output_type": "display_data",
          "data": {
            "image/png": "[encoded data removed]",
            "text/plain": [
              "<Figure size 432x288 with 1 Axes>"
            ]
          },
          "metadata": {
            "tags": []
          }
        }
      ]
    },
    {
      "cell_type": "code",
      "metadata": {
        "id": "ilZk3RetonhI",
        "colab": {
          "base_uri": "https://localhost:8080/",
          "height": 387
        },
        "outputId": "03fb5574-474e-431b-c679-4818ff447650"
      },
      "source": [
        "import matplotlib.pyplot as plt \n",
        "fig, ax = plt.subplots()\n",
        "P_emaildomain = df.loc[df['city']=='Anchorage']['hour'].value_counts()\n",
        "xaxis = P_emaildomain.index\n",
        "yaxis = P_emaildomain.values\n",
        "total = sum(yaxis)\n",
        "print(yaxis)\n",
        "print(total)\n",
        "newList = [x*100 / total for x in yaxis]\n",
        "print(newList)\n",
        "plt.xlabel('Hour of the day')\n",
        "plt.ylabel('% of people tweeting')\n",
        "ax.bar(xaxis,newList,color='#E69F00')\n"
      ],
      "execution_count": null,
      "outputs": [
        {
          "output_type": "stream",
          "text": [
            "[54 51 50 50 46 42 42 42 37 36 36 35 35 32 32 30 26 25 18 15 15  9  9  7]\n",
            "774\n",
            "[6.976744186046512, 6.589147286821706, 6.459948320413437, 6.459948320413437, 5.943152454780361, 5.426356589147287, 5.426356589147287, 5.426356589147287, 4.780361757105943, 4.651162790697675, 4.651162790697675, 4.521963824289406, 4.521963824289406, 4.134366925064599, 4.134366925064599, 3.875968992248062, 3.359173126614987, 3.2299741602067185, 2.3255813953488373, 1.937984496124031, 1.937984496124031, 1.1627906976744187, 1.1627906976744187, 0.9043927648578811]\n"
          ],
          "name": "stdout"
        },
        {
          "output_type": "execute_result",
          "data": {
            "text/plain": [
              "<BarContainer object of 24 artists>"
            ]
          },
          "metadata": {
            "tags": []
          },
          "execution_count": 98
        },
        {
          "output_type": "display_data",
          "data": {
            "image/png": "[encoded data removed]",
            "text/plain": [
              "<Figure size 432x288 with 1 Axes>"
            ]
          },
          "metadata": {
            "tags": []
          }
        }
      ]
    },
    {
      "cell_type": "code",
      "metadata": {
        "id": "4nl2RbRjoq1H",
        "colab": {
          "base_uri": "https://localhost:8080/",
          "height": 367
        },
        "outputId": "1c82ded1-32b9-4098-bd7b-8a491d3d36b4"
      },
      "source": [
        "import matplotlib.pyplot as plt \n",
        "fig, ax = plt.subplots()\n",
        "P_emaildomain = df.loc[df['city']=='Honolulu']['hour'].value_counts()\n",
        "xaxis = P_emaildomain.index\n",
        "yaxis = P_emaildomain.values\n",
        "total = sum(yaxis)\n",
        "print(yaxis)\n",
        "print(total)\n",
        "newList = [x*100 / total for x in yaxis]\n",
        "print(newList)\n",
        "plt.xlabel('Hour of the day')\n",
        "plt.ylabel('% of people tweeting')\n",
        "ax.bar(xaxis,newList,color='#E69F00')"
      ],
      "execution_count": null,
      "outputs": [
        {
          "output_type": "stream",
          "text": [
            "[79 76 70 68 67 67 66 64 62 62 61 60 58 56 55 53 42 38 26 23 21 17 17  9]\n",
            "1217\n",
            "[6.491372226787181, 6.244864420706656, 5.751848808545604, 5.587510271158587, 5.505341002465078, 5.505341002465078, 5.42317173377157, 5.258833196384552, 5.094494658997535, 5.094494658997535, 5.012325390304026, 4.930156121610517, 4.7658175842235, 4.6014790468364835, 4.519309778142975, 4.354971240755957, 3.4511092851273624, 3.122432210353328, 2.1364009860312243, 1.8898931799506984, 1.7255546425636812, 1.3968775677896468, 1.3968775677896468, 0.7395234182415776]\n"
          ],
          "name": "stdout"
        },
        {
          "output_type": "execute_result",
          "data": {
            "text/plain": [
              "<BarContainer object of 24 artists>"
            ]
          },
          "metadata": {
            "tags": []
          },
          "execution_count": 99
        },
        {
          "output_type": "display_data",
          "data": {
            "image/png": "[encoded data removed]",
            "text/plain": [
              "<Figure size 432x288 with 1 Axes>"
            ]
          },
          "metadata": {
            "tags": []
          }
        }
      ]
    },
    {
      "cell_type": "code",
      "metadata": {
        "id": "5MM790Fvnqjx",
        "colab": {
          "base_uri": "https://localhost:8080/",
          "height": 388
        },
        "outputId": "5baa0e80-0268-40a6-f590-3ac48066324f"
      },
      "source": [
        "import matplotlib.pyplot as plt \n",
        "fig, ax = plt.subplots()\n",
        "P_emaildomain = df.loc[df['city']=='Washington']['hour'].value_counts()\n",
        "xaxis = P_emaildomain.index\n",
        "yaxis = P_emaildomain.values\n",
        "total = sum(yaxis)\n",
        "print(yaxis)\n",
        "print(total)\n",
        "newList = [x*100 / total for x in yaxis]\n",
        "print(newList)\n",
        "plt.xlabel('Hour of the day')\n",
        "plt.ylabel('% of people tweeting')\n",
        "ax.bar(xaxis,newList,color='#E69F00')\n"
      ],
      "execution_count": null,
      "outputs": [
        {
          "output_type": "stream",
          "text": [
            "[377 360 335 309 309 308 302 296 294 294 282 274 270 260 236 219 197 165\n",
            " 147 121 120  74  65  39]\n",
            "5653\n",
            "[6.6690252963028485, 6.368300017689722, 5.926056960905714, 5.466124181850345, 5.466124181850345, 5.448434459578984, 5.342296125950822, 5.23615779232266, 5.20077834777994, 5.20077834777994, 4.9885016805236155, 4.846983902352733, 4.776225013267291, 4.599327790553688, 4.17477445604104, 3.8740491774279144, 3.484875287457987, 2.918804174774456, 2.60038917388997, 2.140456394834601, 2.1227666725632406, 1.309039448080665, 1.149831947638422, 0.6898991685830532]\n"
          ],
          "name": "stdout"
        },
        {
          "output_type": "execute_result",
          "data": {
            "text/plain": [
              "<BarContainer object of 24 artists>"
            ]
          },
          "metadata": {
            "tags": []
          },
          "execution_count": 100
        },
        {
          "output_type": "display_data",
          "data": {
            "image/png": "[encoded data removed]",
            "text/plain": [
              "<Figure size 432x288 with 1 Axes>"
            ]
          },
          "metadata": {
            "tags": []
          }
        }
      ]
    },
    {
      "cell_type": "code",
      "metadata": {
        "id": "wbRwLojVoiKa"
      },
      "source": [
        ""
      ],
      "execution_count": null,
      "outputs": []
    },
    {
      "cell_type": "code",
      "metadata": {
        "id": "UmJoEaIjoKwz",
        "colab": {
          "base_uri": "https://localhost:8080/",
          "height": 384
        },
        "outputId": "210637f7-d97d-4ed9-8542-5da58281e346"
      },
      "source": [
        "import matplotlib.pyplot as plt \n",
        "fig, ax = plt.subplots()\n",
        "P_emaildomain = df.loc[df['city']=='Phoenix']['hour'].value_counts()\n",
        "xaxis = P_emaildomain.index\n",
        "yaxis = P_emaildomain.values\n",
        "total = sum(yaxis)\n",
        "print(yaxis)\n",
        "print(total)\n",
        "newList = [x*100 / total for x in yaxis]\n",
        "print(newList)\n",
        "plt.xlabel('Hour of the day')\n",
        "plt.ylabel('% of people tweeting')\n",
        "ax.bar(xaxis,newList,color='#E69F00')"
      ],
      "execution_count": null,
      "outputs": [
        {
          "output_type": "stream",
          "text": [
            "[221 221 207 205 203 185 180 176 174 169 168 166 164 163 152 142 106  97\n",
            "  82  49  44  39  32  17]\n",
            "3362\n",
            "[6.573468173706127, 6.573468173706127, 6.157049375371803, 6.097560975609756, 6.03807257584771, 5.502676977989292, 5.353955978584176, 5.234979179060083, 5.175490779298037, 5.026769779892921, 4.997025580011898, 4.937537180249851, 4.878048780487805, 4.848304580606782, 4.521118381915526, 4.223676383105294, 3.1528851873884594, 2.8851873884592503, 2.4390243902439024, 1.4574657941701368, 1.3087447947650208, 1.1600237953599049, 0.9518143961927424, 0.5056513979773944]\n"
          ],
          "name": "stdout"
        },
        {
          "output_type": "execute_result",
          "data": {
            "text/plain": [
              "<BarContainer object of 24 artists>"
            ]
          },
          "metadata": {
            "tags": []
          },
          "execution_count": 101
        },
        {
          "output_type": "display_data",
          "data": {
            "image/png": "[encoded data removed]",
            "text/plain": [
              "<Figure size 432x288 with 1 Axes>"
            ]
          },
          "metadata": {
            "tags": []
          }
        }
      ]
    },
    {
      "cell_type": "code",
      "metadata": {
        "id": "z-Ll3c3gpQyK"
      },
      "source": [
        "df['created_at'][df['country']=='India']=df['created_at']+timedelta(hours=5,minutes=30)"
      ],
      "execution_count": null,
      "outputs": []
    },
    {
      "cell_type": "code",
      "metadata": {
        "id": "PX2wUTCNpBNZ",
        "colab": {
          "base_uri": "https://localhost:8080/",
          "height": 384
        },
        "outputId": "e94f393b-e26a-44b3-ff30-ef24ed31d201"
      },
      "source": [
        "import matplotlib.pyplot as plt \n",
        "fig, ax = plt.subplots()\n",
        "P_emaildomain = df.loc[df['country']=='India']['hour'].value_counts()\n",
        "xaxis = P_emaildomain.index\n",
        "yaxis = P_emaildomain.values\n",
        "total = sum(yaxis)\n",
        "print(yaxis)\n",
        "print(total)\n",
        "newList = [x*100 / total for x in yaxis]\n",
        "print(newList)\n",
        "plt.xlabel('Hour of the day')\n",
        "plt.ylabel('% of people tweeting')\n",
        "ax.bar(xaxis,newList,color='#E69F00')"
      ],
      "execution_count": null,
      "outputs": [
        {
          "output_type": "stream",
          "text": [
            "[1238 1235 1226 1202 1202 1194 1180 1156 1149 1132 1115 1060 1054 1050\n",
            "  919  752  591  581  347  313  202  170  102   96]\n",
            "20266\n",
            "[6.10875357742031, 6.093950458896674, 6.049541103325767, 5.931116155136682, 5.931116155136682, 5.891641172406987, 5.822559952630021, 5.704135004440936, 5.669594394552452, 5.58571005625185, 5.501825717951248, 5.230435211684595, 5.200828974637323, 5.181091483272476, 4.5346886410737195, 3.7106483765913354, 2.9162143491562222, 2.8668706207441033, 1.712227375900523, 1.544458699299319, 0.9967433139248002, 0.8388433830060199, 0.5033060298036119, 0.47369979275634067]\n"
          ],
          "name": "stdout"
        },
        {
          "output_type": "execute_result",
          "data": {
            "text/plain": [
              "<BarContainer object of 24 artists>"
            ]
          },
          "metadata": {
            "tags": []
          },
          "execution_count": 102
        },
        {
          "output_type": "display_data",
          "data": {
            "image/png": "[encoded data removed]",
            "text/plain": [
              "<Figure size 432x288 with 1 Axes>"
            ]
          },
          "metadata": {
            "tags": []
          }
        }
      ]
    },
    {
      "cell_type": "code",
      "metadata": {
        "id": "TKiM3Wvzuaim",
        "colab": {
          "base_uri": "https://localhost:8080/",
          "height": 202
        },
        "outputId": "25422fa4-e898-49ab-b1a2-b5a65e1dca6c"
      },
      "source": [
        "from mpl_toolkits.basemap import Basemap\n",
        "import numpy as np\n",
        "import matplotlib.pyplot as plt\n",
        " \n",
        "# Always start witht the basemap function to initialize a map\n",
        "m=Basemap()\n",
        " \n",
        "# Then add element: draw coast line, map boundary, and fill continents:\n",
        "m.drawcoastlines()\n",
        "m.drawmapboundary()\n",
        "m.fillcontinents()\n",
        " \n",
        "# You can add rivers as well\n",
        "#m.drawrivers(color='#0000ff')\n",
        " \n",
        "plt.show()"
      ],
      "execution_count": null,
      "outputs": [
        {
          "output_type": "display_data",
          "data": {
            "image/png": "[encoded data removed]",
            "text/plain": [
              "<Figure size 432x288 with 1 Axes>"
            ]
          },
          "metadata": {
            "tags": []
          }
        }
      ]
    },
    {
      "cell_type": "code",
      "metadata": {
        "id": "Wbj5MhRaFaE5"
      },
      "source": [
        "df_US = df.loc[(df['country']==\"United States\") & ((df['hour']>=21) | (df['hour']<=9))]"
      ],
      "execution_count": null,
      "outputs": []
    },
    {
      "cell_type": "code",
      "metadata": {
        "id": "neAbr9RxKhz2",
        "colab": {
          "base_uri": "https://localhost:8080/",
          "height": 34
        },
        "outputId": "273c422d-c1b0-4a6d-ac4f-f612d9a3b403"
      },
      "source": [
        "df_US.shape"
      ],
      "execution_count": null,
      "outputs": [
        {
          "output_type": "execute_result",
          "data": {
            "text/plain": [
              "(133804, 10)"
            ]
          },
          "metadata": {
            "tags": []
          },
          "execution_count": 61
        }
      ]
    },
    {
      "cell_type": "code",
      "metadata": {
        "id": "c8nUXb7CHi-1",
        "colab": {
          "base_uri": "https://localhost:8080/",
          "height": 221
        },
        "outputId": "4b4e7e9d-ae6b-4bad-b316-ba16f410b78c"
      },
      "source": [
        "df.loc[(df['country']==\"United States\")]['city']"
      ],
      "execution_count": null,
      "outputs": [
        {
          "output_type": "execute_result",
          "data": {
            "text/plain": [
              "0              Delano\n",
              "2         Garden City\n",
              "3            Paterson\n",
              "5               Tempe\n",
              "8                Ohio\n",
              "             ...     \n",
              "716092        Chicago\n",
              "716099       Metairie\n",
              "716100        Wichita\n",
              "716108          Tulsa\n",
              "716111    Chattanooga\n",
              "Name: city, Length: 210826, dtype: object"
            ]
          },
          "metadata": {
            "tags": []
          },
          "execution_count": 62
        }
      ]
    },
    {
      "cell_type": "code",
      "metadata": {
        "id": "6gt2N71sKBC9"
      },
      "source": [
        "df_US.loc[(df_US['city']=='Arizona')]"
      ],
      "execution_count": null,
      "outputs": []
    },
    {
      "cell_type": "code",
      "metadata": {
        "id": "0AL-cYgUJK1C"
      },
      "source": [
        "p = df_US['city'].value_counts()"
      ],
      "execution_count": null,
      "outputs": []
    },
    {
      "cell_type": "code",
      "metadata": {
        "id": "bsI29_Y5L4o5",
        "colab": {
          "base_uri": "https://localhost:8080/",
          "height": 153
        },
        "outputId": "cefcf45f-88f5-44e0-a632-79164cc3452c"
      },
      "source": [
        "p.index"
      ],
      "execution_count": null,
      "outputs": [
        {
          "output_type": "execute_result",
          "data": {
            "text/plain": [
              "Index(['Houston', 'Los Angeles', 'Georgia', 'Texas', 'Florida', 'Manhattan',\n",
              "       'Philadelphia', 'San Antonio', 'Pennsylvania', 'Chicago',\n",
              "       ...\n",
              "       'Midlakes', 'Hoover Dam', 'Nibley',\n",
              "       'BART Pittsburg/Bay Point/SFO (Yellow Line) Train', 'Port Byron',\n",
              "       'Sand City', 'Holiday Train', 'Baxter', 'Springfield Catholic HS',\n",
              "       'Crab Orchard'],\n",
              "      dtype='object', length=7528)"
            ]
          },
          "metadata": {
            "tags": []
          },
          "execution_count": 86
        }
      ]
    },
    {
      "cell_type": "code",
      "metadata": {
        "id": "QWECsxbsSkKQ",
        "colab": {
          "base_uri": "https://localhost:8080/",
          "height": 34
        },
        "outputId": "b2bf53a0-4d07-4e06-8b41-e5e2858ea004"
      },
      "source": [
        "p['Aberdeen']"
      ],
      "execution_count": null,
      "outputs": [
        {
          "output_type": "execute_result",
          "data": {
            "text/plain": [
              "36"
            ]
          },
          "metadata": {
            "tags": []
          },
          "execution_count": 255
        }
      ]
    },
    {
      "cell_type": "code",
      "metadata": {
        "id": "XUhyog9_Mbq7",
        "colab": {
          "base_uri": "https://localhost:8080/",
          "height": 34
        },
        "outputId": "7974647e-1681-4467-f7f1-a5e4d65570cd"
      },
      "source": [
        "p.values"
      ],
      "execution_count": null,
      "outputs": [
        {
          "output_type": "execute_result",
          "data": {
            "text/plain": [
              "array([2382, 1875, 1848, ...,    1,    1,    1])"
            ]
          },
          "metadata": {
            "tags": []
          },
          "execution_count": 87
        }
      ]
    },
    {
      "cell_type": "code",
      "metadata": {
        "id": "CK1XQ6y6u4Zr",
        "colab": {
          "base_uri": "https://localhost:8080/",
          "height": 542
        },
        "outputId": "d01f1219-e7fe-41fb-914b-7a6ef6c45afe"
      },
      "source": [
        "import pandas as pd\n",
        "import plotly.graph_objs as go\n",
        "fig = go.Figure(data=go.Choropleth(\n",
        "    locations=['AZ','NY','TX','VA','WA','FL','NE','UT','MA','CT','CA','NJ','MD','AR','SD'], # Spatial coordinates\n",
        "    z = [1774,2762,5921,1341,1596,2667,580,251,1104,573,5940,662,905,160,141], # Data to be color-coded\n",
        "    locationmode = 'USA-states', # set of locations match entries in locations\n",
        "    colorscale = 'Reds',\n",
        "    colorbar_title = \"Tweet count During 9PM to 9AM\",\n",
        "))\n",
        "\n",
        "fig.update_layout(\n",
        "    title_text = '2015 Sleeping patterns of US states  ',\n",
        "    geo_scope='usa', # limite map scope to USA\n",
        ")\n",
        "\n",
        "fig.show()"
      ],
      "execution_count": null,
      "outputs": [
        {
          "output_type": "display_data",
          "data": {
            "text/html": [
              "<html>\n",
              "<head><meta charset=\"utf-8\" /></head>\n",
              "<body>\n",
              "    <div>\n",
              "            <script src=\"https://cdnjs.cloudflare.com/ajax/libs/mathjax/2.7.5/MathJax.js?config=TeX-AMS-MML_SVG\"></script><script type=\"text/javascript\">if (window.MathJax) {MathJax.Hub.Config({SVG: {font: \"STIX-Web\"}});}</script>\n",
              "                <script type=\"text/javascript\">window.PlotlyConfig = {MathJaxConfig: 'local'};</script>\n",
              "        <script src=\"https://cdn.plot.ly/plotly-latest.min.js\"></script>    \n",
              "            <div id=\"d6449cf0-8574-4d4e-962d-8afb27cfcc24\" class=\"plotly-graph-div\" style=\"height:525px; width:100%;\"></div>\n",
              "            <script type=\"text/javascript\">\n",
              "                \n",
              "                    window.PLOTLYENV=window.PLOTLYENV || {};\n",
              "                    \n",
              "                if (document.getElementById(\"d6449cf0-8574-4d4e-962d-8afb27cfcc24\")) {\n",
              "                    Plotly.newPlot(\n",
              "                        'd6449cf0-8574-4d4e-962d-8afb27cfcc24',\n",
              "                        [{\"colorbar\": {\"title\": {\"text\": \"Tweet count During 9PM to 9AM\"}}, \"colorscale\": [[0.0, \"rgb(255,245,240)\"], [0.125, \"rgb(254,224,210)\"], [0.25, \"rgb(252,187,161)\"], [0.375, \"rgb(252,146,114)\"], [0.5, \"rgb(251,106,74)\"], [0.625, \"rgb(239,59,44)\"], [0.75, \"rgb(203,24,29)\"], [0.875, \"rgb(165,15,21)\"], [1.0, \"rgb(103,0,13)\"]], \"locationmode\": \"USA-states\", \"locations\": [\"AZ\", \"NY\", \"TX\", \"VA\", \"WA\", \"FL\", \"NE\", \"UT\", \"MA\", \"CT\", \"CA\", \"NJ\", \"MD\", \"AR\", \"SD\"], \"type\": \"choropleth\", \"z\": [1774, 2762, 5921, 1341, 1596, 2667, 580, 251, 1104, 573, 5940, 662, 905, 160, 141]}],\n",
              "                        {\"geo\": {\"scope\": \"usa\"}, \"template\": {\"data\": {\"bar\": [{\"error_x\": {\"color\": \"#2a3f5f\"}, \"error_y\": {\"color\": \"#2a3f5f\"}, \"marker\": {\"line\": {\"color\": \"#E5ECF6\", \"width\": 0.5}}, \"type\": \"bar\"}], \"barpolar\": [{\"marker\": {\"line\": {\"color\": \"#E5ECF6\", \"width\": 0.5}}, \"type\": \"barpolar\"}], \"carpet\": [{\"aaxis\": {\"endlinecolor\": \"#2a3f5f\", \"gridcolor\": \"white\", \"linecolor\": \"white\", \"minorgridcolor\": \"white\", \"startlinecolor\": \"#2a3f5f\"}, \"baxis\": {\"endlinecolor\": \"#2a3f5f\", \"gridcolor\": \"white\", \"linecolor\": \"white\", \"minorgridcolor\": \"white\", \"startlinecolor\": \"#2a3f5f\"}, \"type\": \"carpet\"}], \"choropleth\": [{\"colorbar\": {\"outlinewidth\": 0, \"ticks\": \"\"}, \"type\": \"choropleth\"}], \"contour\": [{\"colorbar\": {\"outlinewidth\": 0, \"ticks\": \"\"}, \"colorscale\": [[0.0, \"#0d0887\"], [0.1111111111111111, \"#46039f\"], [0.2222222222222222, \"#7201a8\"], [0.3333333333333333, \"#9c179e\"], [0.4444444444444444, \"#bd3786\"], [0.5555555555555556, \"#d8576b\"], [0.6666666666666666, \"#ed7953\"], [0.7777777777777778, \"#fb9f3a\"], [0.8888888888888888, \"#fdca26\"], [1.0, \"#f0f921\"]], \"type\": \"contour\"}], \"contourcarpet\": [{\"colorbar\": {\"outlinewidth\": 0, \"ticks\": \"\"}, \"type\": \"contourcarpet\"}], \"heatmap\": [{\"colorbar\": {\"outlinewidth\": 0, \"ticks\": \"\"}, \"colorscale\": [[0.0, \"#0d0887\"], [0.1111111111111111, \"#46039f\"], [0.2222222222222222, \"#7201a8\"], [0.3333333333333333, \"#9c179e\"], [0.4444444444444444, \"#bd3786\"], [0.5555555555555556, \"#d8576b\"], [0.6666666666666666, \"#ed7953\"], [0.7777777777777778, \"#fb9f3a\"], [0.8888888888888888, \"#fdca26\"], [1.0, \"#f0f921\"]], \"type\": \"heatmap\"}], \"heatmapgl\": [{\"colorbar\": {\"outlinewidth\": 0, \"ticks\": \"\"}, \"colorscale\": [[0.0, \"#0d0887\"], [0.1111111111111111, \"#46039f\"], [0.2222222222222222, \"#7201a8\"], [0.3333333333333333, \"#9c179e\"], [0.4444444444444444, \"#bd3786\"], [0.5555555555555556, \"#d8576b\"], [0.6666666666666666, \"#ed7953\"], [0.7777777777777778, \"#fb9f3a\"], [0.8888888888888888, \"#fdca26\"], [1.0, \"#f0f921\"]], \"type\": \"heatmapgl\"}], \"histogram\": [{\"marker\": {\"colorbar\": {\"outlinewidth\": 0, \"ticks\": \"\"}}, \"type\": \"histogram\"}], \"histogram2d\": [{\"colorbar\": {\"outlinewidth\": 0, \"ticks\": \"\"}, \"colorscale\": [[0.0, \"#0d0887\"], [0.1111111111111111, \"#46039f\"], [0.2222222222222222, \"#7201a8\"], [0.3333333333333333, \"#9c179e\"], [0.4444444444444444, \"#bd3786\"], [0.5555555555555556, \"#d8576b\"], [0.6666666666666666, \"#ed7953\"], [0.7777777777777778, \"#fb9f3a\"], [0.8888888888888888, \"#fdca26\"], [1.0, \"#f0f921\"]], \"type\": \"histogram2d\"}], \"histogram2dcontour\": [{\"colorbar\": {\"outlinewidth\": 0, \"ticks\": \"\"}, \"colorscale\": [[0.0, \"#0d0887\"], [0.1111111111111111, \"#46039f\"], [0.2222222222222222, \"#7201a8\"], [0.3333333333333333, \"#9c179e\"], [0.4444444444444444, \"#bd3786\"], [0.5555555555555556, \"#d8576b\"], [0.6666666666666666, \"#ed7953\"], [0.7777777777777778, \"#fb9f3a\"], [0.8888888888888888, \"#fdca26\"], [1.0, \"#f0f921\"]], \"type\": \"histogram2dcontour\"}], \"mesh3d\": [{\"colorbar\": {\"outlinewidth\": 0, \"ticks\": \"\"}, \"type\": \"mesh3d\"}], \"parcoords\": [{\"line\": {\"colorbar\": {\"outlinewidth\": 0, \"ticks\": \"\"}}, \"type\": \"parcoords\"}], \"scatter\": [{\"marker\": {\"colorbar\": {\"outlinewidth\": 0, \"ticks\": \"\"}}, \"type\": \"scatter\"}], \"scatter3d\": [{\"line\": {\"colorbar\": {\"outlinewidth\": 0, \"ticks\": \"\"}}, \"marker\": {\"colorbar\": {\"outlinewidth\": 0, \"ticks\": \"\"}}, \"type\": \"scatter3d\"}], \"scattercarpet\": [{\"marker\": {\"colorbar\": {\"outlinewidth\": 0, \"ticks\": \"\"}}, \"type\": \"scattercarpet\"}], \"scattergeo\": [{\"marker\": {\"colorbar\": {\"outlinewidth\": 0, \"ticks\": \"\"}}, \"type\": \"scattergeo\"}], \"scattergl\": [{\"marker\": {\"colorbar\": {\"outlinewidth\": 0, \"ticks\": \"\"}}, \"type\": \"scattergl\"}], \"scattermapbox\": [{\"marker\": {\"colorbar\": {\"outlinewidth\": 0, \"ticks\": \"\"}}, \"type\": \"scattermapbox\"}], \"scatterpolar\": [{\"marker\": {\"colorbar\": {\"outlinewidth\": 0, \"ticks\": \"\"}}, \"type\": \"scatterpolar\"}], \"scatterpolargl\": [{\"marker\": {\"colorbar\": {\"outlinewidth\": 0, \"ticks\": \"\"}}, \"type\": \"scatterpolargl\"}], \"scatterternary\": [{\"marker\": {\"colorbar\": {\"outlinewidth\": 0, \"ticks\": \"\"}}, \"type\": \"scatterternary\"}], \"surface\": [{\"colorbar\": {\"outlinewidth\": 0, \"ticks\": \"\"}, \"colorscale\": [[0.0, \"#0d0887\"], [0.1111111111111111, \"#46039f\"], [0.2222222222222222, \"#7201a8\"], [0.3333333333333333, \"#9c179e\"], [0.4444444444444444, \"#bd3786\"], [0.5555555555555556, \"#d8576b\"], [0.6666666666666666, \"#ed7953\"], [0.7777777777777778, \"#fb9f3a\"], [0.8888888888888888, \"#fdca26\"], [1.0, \"#f0f921\"]], \"type\": \"surface\"}], \"table\": [{\"cells\": {\"fill\": {\"color\": \"#EBF0F8\"}, \"line\": {\"color\": \"white\"}}, \"header\": {\"fill\": {\"color\": \"#C8D4E3\"}, \"line\": {\"color\": \"white\"}}, \"type\": \"table\"}]}, \"layout\": {\"annotationdefaults\": {\"arrowcolor\": \"#2a3f5f\", \"arrowhead\": 0, \"arrowwidth\": 1}, \"colorscale\": {\"diverging\": [[0, \"#8e0152\"], [0.1, \"#c51b7d\"], [0.2, \"#de77ae\"], [0.3, \"#f1b6da\"], [0.4, \"#fde0ef\"], [0.5, \"#f7f7f7\"], [0.6, \"#e6f5d0\"], [0.7, \"#b8e186\"], [0.8, \"#7fbc41\"], [0.9, \"#4d9221\"], [1, \"#276419\"]], \"sequential\": [[0.0, \"#0d0887\"], [0.1111111111111111, \"#46039f\"], [0.2222222222222222, \"#7201a8\"], [0.3333333333333333, \"#9c179e\"], [0.4444444444444444, \"#bd3786\"], [0.5555555555555556, \"#d8576b\"], [0.6666666666666666, \"#ed7953\"], [0.7777777777777778, \"#fb9f3a\"], [0.8888888888888888, \"#fdca26\"], [1.0, \"#f0f921\"]], \"sequentialminus\": [[0.0, \"#0d0887\"], [0.1111111111111111, \"#46039f\"], [0.2222222222222222, \"#7201a8\"], [0.3333333333333333, \"#9c179e\"], [0.4444444444444444, \"#bd3786\"], [0.5555555555555556, \"#d8576b\"], [0.6666666666666666, \"#ed7953\"], [0.7777777777777778, \"#fb9f3a\"], [0.8888888888888888, \"#fdca26\"], [1.0, \"#f0f921\"]]}, \"colorway\": [\"#636efa\", \"#EF553B\", \"#00cc96\", \"#ab63fa\", \"#FFA15A\", \"#19d3f3\", \"#FF6692\", \"#B6E880\", \"#FF97FF\", \"#FECB52\"], \"font\": {\"color\": \"#2a3f5f\"}, \"geo\": {\"bgcolor\": \"white\", \"lakecolor\": \"white\", \"landcolor\": \"#E5ECF6\", \"showlakes\": true, \"showland\": true, \"subunitcolor\": \"white\"}, \"hoverlabel\": {\"align\": \"left\"}, \"hovermode\": \"closest\", \"mapbox\": {\"style\": \"light\"}, \"paper_bgcolor\": \"white\", \"plot_bgcolor\": \"#E5ECF6\", \"polar\": {\"angularaxis\": {\"gridcolor\": \"white\", \"linecolor\": \"white\", \"ticks\": \"\"}, \"bgcolor\": \"#E5ECF6\", \"radialaxis\": {\"gridcolor\": \"white\", \"linecolor\": \"white\", \"ticks\": \"\"}}, \"scene\": {\"xaxis\": {\"backgroundcolor\": \"#E5ECF6\", \"gridcolor\": \"white\", \"gridwidth\": 2, \"linecolor\": \"white\", \"showbackground\": true, \"ticks\": \"\", \"zerolinecolor\": \"white\"}, \"yaxis\": {\"backgroundcolor\": \"#E5ECF6\", \"gridcolor\": \"white\", \"gridwidth\": 2, \"linecolor\": \"white\", \"showbackground\": true, \"ticks\": \"\", \"zerolinecolor\": \"white\"}, \"zaxis\": {\"backgroundcolor\": \"#E5ECF6\", \"gridcolor\": \"white\", \"gridwidth\": 2, \"linecolor\": \"white\", \"showbackground\": true, \"ticks\": \"\", \"zerolinecolor\": \"white\"}}, \"shapedefaults\": {\"line\": {\"color\": \"#2a3f5f\"}}, \"ternary\": {\"aaxis\": {\"gridcolor\": \"white\", \"linecolor\": \"white\", \"ticks\": \"\"}, \"baxis\": {\"gridcolor\": \"white\", \"linecolor\": \"white\", \"ticks\": \"\"}, \"bgcolor\": \"#E5ECF6\", \"caxis\": {\"gridcolor\": \"white\", \"linecolor\": \"white\", \"ticks\": \"\"}}, \"title\": {\"x\": 0.05}, \"xaxis\": {\"automargin\": true, \"gridcolor\": \"white\", \"linecolor\": \"white\", \"ticks\": \"\", \"zerolinecolor\": \"white\", \"zerolinewidth\": 2}, \"yaxis\": {\"automargin\": true, \"gridcolor\": \"white\", \"linecolor\": \"white\", \"ticks\": \"\", \"zerolinecolor\": \"white\", \"zerolinewidth\": 2}}}, \"title\": {\"text\": \"2015 Sleeping patterns of US states  \"}},\n",
              "                        {\"responsive\": true}\n",
              "                    ).then(function(){\n",
              "                            \n",
              "var gd = document.getElementById('d6449cf0-8574-4d4e-962d-8afb27cfcc24');\n",
              "var x = new MutationObserver(function (mutations, observer) {{\n",
              "        var display = window.getComputedStyle(gd).display;\n",
              "        if (!display || display === 'none') {{\n",
              "            console.log([gd, 'removed!']);\n",
              "            Plotly.purge(gd);\n",
              "            observer.disconnect();\n",
              "        }}\n",
              "}});\n",
              "\n",
              "// Listen for the removal of the full notebook cells\n",
              "var notebookContainer = gd.closest('#notebook-container');\n",
              "if (notebookContainer) {{\n",
              "    x.observe(notebookContainer, {childList: true});\n",
              "}}\n",
              "\n",
              "// Listen for the clearing of the current output cell\n",
              "var outputEl = gd.closest('.output');\n",
              "if (outputEl) {{\n",
              "    x.observe(outputEl, {childList: true});\n",
              "}}\n",
              "\n",
              "                        })\n",
              "                };\n",
              "                \n",
              "            </script>\n",
              "        </div>\n",
              "</body>\n",
              "</html>"
            ]
          },
          "metadata": {
            "tags": []
          }
        }
      ]
    },
    {
      "cell_type": "code",
      "metadata": {
        "id": "U9jZZut9WobC",
        "colab": {
          "base_uri": "https://localhost:8080/",
          "height": 224
        },
        "outputId": "576bdc31-3b46-4002-8129-0ee21142aecc"
      },
      "source": [
        "df_model.head()"
      ],
      "execution_count": null,
      "outputs": [
        {
          "output_type": "execute_result",
          "data": {
            "text/html": [
              "<div>\n",
              "<style scoped>\n",
              "    .dataframe tbody tr th:only-of-type {\n",
              "        vertical-align: middle;\n",
              "    }\n",
              "\n",
              "    .dataframe tbody tr th {\n",
              "        vertical-align: top;\n",
              "    }\n",
              "\n",
              "    .dataframe thead th {\n",
              "        text-align: right;\n",
              "    }\n",
              "</style>\n",
              "<table border=\"1\" class=\"dataframe\">\n",
              "  <thead>\n",
              "    <tr style=\"text-align: right;\">\n",
              "      <th></th>\n",
              "      <th>userid</th>\n",
              "      <th>reply_count</th>\n",
              "      <th>retweet_count</th>\n",
              "      <th>followers_count</th>\n",
              "      <th>following</th>\n",
              "      <th>friends_count</th>\n",
              "      <th>location</th>\n",
              "      <th>default_profile</th>\n",
              "      <th>profile_link_color</th>\n",
              "      <th>statuses_count</th>\n",
              "      <th>sleeptime</th>\n",
              "    </tr>\n",
              "  </thead>\n",
              "  <tbody>\n",
              "    <tr>\n",
              "      <th>0</th>\n",
              "      <td>konzikiboy</td>\n",
              "      <td>198</td>\n",
              "      <td>232</td>\n",
              "      <td>125</td>\n",
              "      <td>50</td>\n",
              "      <td>76</td>\n",
              "      <td>USA</td>\n",
              "      <td>False</td>\n",
              "      <td>F58EA8</td>\n",
              "      <td>76</td>\n",
              "      <td>7</td>\n",
              "    </tr>\n",
              "    <tr>\n",
              "      <th>1</th>\n",
              "      <td>Bubblegumbish_</td>\n",
              "      <td>176</td>\n",
              "      <td>335</td>\n",
              "      <td>104</td>\n",
              "      <td>213</td>\n",
              "      <td>447</td>\n",
              "      <td>China</td>\n",
              "      <td>False</td>\n",
              "      <td>F68EA8</td>\n",
              "      <td>291</td>\n",
              "      <td>6</td>\n",
              "    </tr>\n",
              "    <tr>\n",
              "      <th>2</th>\n",
              "      <td>doh121212</td>\n",
              "      <td>477</td>\n",
              "      <td>100</td>\n",
              "      <td>25</td>\n",
              "      <td>78</td>\n",
              "      <td>111</td>\n",
              "      <td>China</td>\n",
              "      <td>True</td>\n",
              "      <td>F68EA9</td>\n",
              "      <td>176</td>\n",
              "      <td>6</td>\n",
              "    </tr>\n",
              "    <tr>\n",
              "      <th>3</th>\n",
              "      <td>ann_nateboon</td>\n",
              "      <td>234</td>\n",
              "      <td>40</td>\n",
              "      <td>89</td>\n",
              "      <td>150</td>\n",
              "      <td>98</td>\n",
              "      <td>Japan</td>\n",
              "      <td>False</td>\n",
              "      <td>A68EA10</td>\n",
              "      <td>199</td>\n",
              "      <td>7</td>\n",
              "    </tr>\n",
              "    <tr>\n",
              "      <th>4</th>\n",
              "      <td>AkbarSh79184258</td>\n",
              "      <td>165</td>\n",
              "      <td>237</td>\n",
              "      <td>189</td>\n",
              "      <td>200</td>\n",
              "      <td>219</td>\n",
              "      <td>India</td>\n",
              "      <td>True</td>\n",
              "      <td>F68EA11</td>\n",
              "      <td>67</td>\n",
              "      <td>8</td>\n",
              "    </tr>\n",
              "  </tbody>\n",
              "</table>\n",
              "</div>"
            ],
            "text/plain": [
              "            userid  reply_count  ...  statuses_count  sleeptime\n",
              "0       konzikiboy          198  ...              76          7\n",
              "1   Bubblegumbish_          176  ...             291          6\n",
              "2        doh121212          477  ...             176          6\n",
              "3     ann_nateboon          234  ...             199          7\n",
              "4  AkbarSh79184258          165  ...              67          8\n",
              "\n",
              "[5 rows x 11 columns]"
            ]
          },
          "metadata": {
            "tags": []
          },
          "execution_count": 47
        }
      ]
    },
    {
      "cell_type": "code",
      "metadata": {
        "id": "J-hlNQJBoI4l",
        "colab": {
          "base_uri": "https://localhost:8080/",
          "height": 622
        },
        "outputId": "1ed536d9-89d7-49d3-e0af-6d53afe17ad4"
      },
      "source": [
        "import seaborn as sns\n",
        "import matplotlib.pyplot as plt\n",
        "pearson_corrmat = df_model.corr()\n",
        "f, ax = plt.subplots(figsize=(12, 9))\n",
        "sns.heatmap(pearson_corrmat, vmax=.8, square=True)"
      ],
      "execution_count": null,
      "outputs": [
        {
          "output_type": "execute_result",
          "data": {
            "text/plain": [
              "<matplotlib.axes._subplots.AxesSubplot at 0x7fd72bfcaa90>"
            ]
          },
          "metadata": {
            "tags": []
          },
          "execution_count": 45
        },
        {
          "output_type": "display_data",
          "data": {
            "image/png": "[encoded data removed]",
            "text/plain": [
              "<Figure size 864x648 with 2 Axes>"
            ]
          },
          "metadata": {
            "tags": []
          }
        }
      ]
    },
    {
      "cell_type": "code",
      "metadata": {
        "id": "fiR16XbjXe-u",
        "colab": {
          "base_uri": "https://localhost:8080/",
          "height": 204
        },
        "outputId": "8be63639-e18c-455c-d983-aaf2abac0f64"
      },
      "source": [
        "print(pearson_corrmat)"
      ],
      "execution_count": null,
      "outputs": [
        {
          "output_type": "stream",
          "text": [
            "                 reply_count  retweet_count  ...  statuses_count  sleeptime\n",
            "reply_count         1.000000       0.381888  ...        0.459103  -0.652370\n",
            "retweet_count       0.381888       1.000000  ...        0.119326  -0.161465\n",
            "followers_count     0.560694       0.158855  ...        0.358807  -0.346944\n",
            "following           0.585607       0.012695  ...        0.318382  -0.410232\n",
            "friends_count       0.614575       0.531215  ...        0.357827  -0.489637\n",
            "default_profile    -0.099341      -0.207060  ...       -0.148526   0.250213\n",
            "statuses_count      0.459103       0.119326  ...        1.000000  -0.792191\n",
            "sleeptime          -0.652370      -0.161465  ...       -0.792191   1.000000\n",
            "\n",
            "[8 rows x 8 columns]\n"
          ],
          "name": "stdout"
        }
      ]
    },
    {
      "cell_type": "code",
      "metadata": {
        "id": "NfyTELkBXMUh"
      },
      "source": [
        "train_data = pd.get_dummies(df_model)"
      ],
      "execution_count": null,
      "outputs": []
    },
    {
      "cell_type": "code",
      "metadata": {
        "id": "CUBIuBVvYjt7"
      },
      "source": [
        "train_da"
      ],
      "execution_count": null,
      "outputs": []
    },
    {
      "cell_type": "code",
      "metadata": {
        "id": "fjF-y3N_dHpU"
      },
      "source": [
        "X = df_model.drop(['sleeptime','userid','default_profile','profile_link_color'], axis=1)\n",
        "Y = df_model['sleeptime']\n",
        "X = pd.get_dummies(X)"
      ],
      "execution_count": null,
      "outputs": []
    },
    {
      "cell_type": "code",
      "metadata": {
        "id": "Iimwe2BvZoNb"
      },
      "source": [
        "from sklearn.model_selection import train_test_split\n",
        "X_train, X_test, y_train, y_test = train_test_split(X, Y, test_size=0.3)"
      ],
      "execution_count": null,
      "outputs": []
    },
    {
      "cell_type": "code",
      "metadata": {
        "id": "-z5puNr9YWwx"
      },
      "source": [
        "X.head()"
      ],
      "execution_count": null,
      "outputs": []
    },
    {
      "cell_type": "code",
      "metadata": {
        "id": "7zmbl--TV3Xq",
        "colab": {
          "base_uri": "https://localhost:8080/",
          "height": 85
        },
        "outputId": "2130edc3-8ac4-4046-cf1b-4062a511784f"
      },
      "source": [
        "from sklearn.linear_model import LinearRegression \n",
        "from sklearn.metrics import classification_report\n",
        "from sklearn.metrics import r2_score\n",
        "from sklearn.metrics import mean_squared_error\n",
        "import numpy as np\n",
        "\n",
        "clf = LinearRegression()\n",
        "#  mod = reg.score(X, Y)\n",
        "clf.fit(X_train, y_train)\n",
        "preds=clf.predict(X_test)\n",
        "accuracy=clf.score(X_test, y_test)\n",
        "print(accuracy)\n",
        "\n",
        "print(r2_score(y_test, preds)  )\n",
        "mse = mean_squared_error(y_test, clf.predict(X_test))\n",
        "print(np.sqrt(mse))\n",
        "print(\"Predicting sleeping pattern of one person\")\n",
        "# print(\"\\naccuracy is %s percent!\\n\" % round(100*accuracy_score(y_test, preds), 2))\n",
        "# print(classification_report(y_test, preds))"
      ],
      "execution_count": null,
      "outputs": [
        {
          "output_type": "stream",
          "text": [
            "0.6024054875133105\n",
            "0.6024054875133105\n",
            "0.6971003145852415\n",
            "Predicting sleeping pattern of one person\n"
          ],
          "name": "stdout"
        }
      ]
    },
    {
      "cell_type": "code",
      "metadata": {
        "id": "oiOp4beavWkF",
        "colab": {
          "base_uri": "https://localhost:8080/",
          "height": 272
        },
        "outputId": "f64bf9e4-e76d-4569-dd1f-a8532d9904aa"
      },
      "source": [
        "from sklearn.linear_model import LogisticRegression \n",
        "from sklearn.metrics import classification_report\n",
        "from sklearn.metrics  import accuracy_score\n",
        "import warnings\n",
        "\n",
        "warnings.filterwarnings(\"ignore\")\n",
        "clf = LogisticRegression(solver='lbfgs')\n",
        "clf.fit(X_train, y_train)\n",
        "preds = clf.predict(X_test)\n",
        "print(\"Predicting the sleeping pattern of a person\")\n",
        "print(\"\\naccuracy is %s percent!\\n\" % round(100*accuracy_score(y_test, preds), 2))\n",
        "print(classification_report(y_test, preds))"
      ],
      "execution_count": null,
      "outputs": [
        {
          "output_type": "stream",
          "text": [
            "Predicting the sleeping pattern of a person\n",
            "\n",
            "accuracy is 16.67 percent!\n",
            "\n",
            "              precision    recall  f1-score   support\n",
            "\n",
            "           6       1.00      0.50      0.67         2\n",
            "           7       0.00      0.00      0.00         1\n",
            "           8       0.00      0.00      0.00         2\n",
            "           9       0.00      0.00      0.00         1\n",
            "\n",
            "    accuracy                           0.17         6\n",
            "   macro avg       0.25      0.12      0.17         6\n",
            "weighted avg       0.33      0.17      0.22         6\n",
            "\n"
          ],
          "name": "stdout"
        }
      ]
    },
    {
      "cell_type": "code",
      "metadata": {
        "id": "aZCtYP20qmVz",
        "colab": {
          "base_uri": "https://localhost:8080/",
          "height": 337
        },
        "outputId": "d105a104-51d7-42be-a2d0-c52453525d59"
      },
      "source": [
        "import matplotlib.pyplot as plt\n",
        "from mpl_toolkits.basemap import Basemap\n",
        "from geopy.geocoders import Nominatim\n",
        "import math\n",
        "\n",
        "cities = [[\"Chicago\",10],\n",
        "          [\"Texas\",10],\n",
        "          [\"New York\",5],\n",
        "          [\"San Francisco\",25]]\n",
        "scale = 5\n",
        "\n",
        "# map = Basemap(llcrnrlon=-119,llcrnrlat=22,urcrnrlon=-64,urcrnrlat=49,\n",
        "#         projection='lcc',lat_1=32,lat_2=45,lon_0=-95)\n",
        "\n",
        "map = Basemap(llcrnrlon=-119,llcrnrlat=22,urcrnrlon=-64,urcrnrlat=49,\n",
        "         projection='lcc',lat_1=32,lat_2=45,lon_0=-95)\n",
        "\n",
        "\n",
        "# load the shapefile, use the name 'states' \n",
        "# Then add element: draw coast line, map boundary, and fill continents:\n",
        "map.drawcoastlines()\n",
        "map.drawmapboundary()\n",
        "map.fillcontinents()\n",
        "\n",
        "# Get the location of each city and plot it\n",
        "geolocator = Nominatim()\n",
        "for (city,count) in cities:\n",
        "    loc = geolocator.geocode(city)\n",
        "    x, y = map(loc.longitude, loc.latitude)\n",
        "    map.plot(x,y,marker='o',color='Red',markersize=int(math.sqrt(count))*scale)\n",
        "plt.show()"
      ],
      "execution_count": null,
      "outputs": [
        {
          "output_type": "stream",
          "text": [
            "/usr/local/lib/python3.6/dist-packages/geopy/geocoders/osm.py:143: UserWarning:\n",
            "\n",
            "Using Nominatim with the default \"geopy/1.17.0\" `user_agent` is strongly discouraged, as it violates Nominatim's ToS https://operations.osmfoundation.org/policies/nominatim/ and may possibly cause 403 and 429 HTTP errors. Please specify a custom `user_agent` with `Nominatim(user_agent=\"my-application\")` or by overriding the default `user_agent`: `geopy.geocoders.options.default_user_agent = \"my-application\"`. In geopy 2.0 this will become an exception.\n",
            "\n"
          ],
          "name": "stderr"
        },
        {
          "output_type": "display_data",
          "data": {
            "image/png": "[encoded data removed]",
            "text/plain": [
              "<Figure size 432x288 with 1 Axes>"
            ]
          },
          "metadata": {
            "tags": []
          }
        }
      ]
    },
    {
      "cell_type": "code",
      "metadata": {
        "id": "n0VliS4gq5MC"
      },
      "source": [
        "!apt-get install libgeos-3.5.0\n",
        "!apt-get install libgeos-dev\n",
        "!pip install https://github.com/matplotlib/basemap/archive/master.zip"
      ],
      "execution_count": null,
      "outputs": []
    },
    {
      "cell_type": "code",
      "metadata": {
        "id": "h83DXPHVs4Jj",
        "colab": {
          "base_uri": "https://localhost:8080/",
          "height": 34
        },
        "outputId": "ec6768e1-c051-450c-94ba-e1e55964b7fa"
      },
      "source": [
        "!pip install pyshp"
      ],
      "execution_count": null,
      "outputs": [
        {
          "output_type": "stream",
          "text": [
            "Requirement already satisfied: pyshp in /usr/local/lib/python3.6/dist-packages (2.1.0)\n"
          ],
          "name": "stdout"
        }
      ]
    },
    {
      "cell_type": "code",
      "metadata": {
        "id": "iPM4XSQYVe-f"
      },
      "source": [
        "df = df[df.place.notnull()][['created_at','place', 'user']]"
      ],
      "execution_count": null,
      "outputs": []
    },
    {
      "cell_type": "code",
      "metadata": {
        "id": "xSH6q-8bcLQn"
      },
      "source": [
        "count = 0  \n",
        "\n",
        "def test(user):\n",
        "  global count\n",
        "  count = count+1 \n",
        "  if count%100==0:\n",
        "    print(count)\n",
        "  try:\n",
        "    bot_score=botometer.check_account(user['screen_name'])\n",
        "    val = bot_score['scores']\n",
        "    return val.get('universal')\n",
        "  except:\n",
        "    #print(user)\n",
        "    return 1\n",
        "  \n",
        "  \n",
        "\n",
        "df2['score'] = df2['user'].apply(test)\n"
      ],
      "execution_count": null,
      "outputs": []
    },
    {
      "cell_type": "code",
      "metadata": {
        "id": "SsG7N8uQebaA"
      },
      "source": [
        "df2 = pd.read_json('/content/drive/My Drive/Twitter/2018_11_07_01_onepercent.txt', lines=True) \n",
        "df2 = df2[df2.place.notnull()][['created_at','place', 'user']]"
      ],
      "execution_count": null,
      "outputs": []
    },
    {
      "cell_type": "code",
      "metadata": {
        "id": "8tf3mg8YwqNN"
      },
      "source": [
        "dfall = df[]"
      ],
      "execution_count": null,
      "outputs": []
    },
    {
      "cell_type": "code",
      "metadata": {
        "id": "fVB2s_yEeRrh"
      },
      "source": [
        "df2.head()"
      ],
      "execution_count": null,
      "outputs": []
    }
  ]
}